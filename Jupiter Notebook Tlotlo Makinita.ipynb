{
  "metadata": {
    "kernelspec": {
      "name": "python",
      "display_name": "Python (Pyodide)",
      "language": "python"
    },
    "language_info": {
      "codemirror_mode": {
        "name": "python",
        "version": 3
      },
      "file_extension": ".py",
      "mimetype": "text/x-python",
      "name": "python",
      "nbconvert_exporter": "python",
      "pygments_lexer": "ipython3",
      "version": "3.8"
    }
  },
  "nbformat_minor": 5,
  "nbformat": 4,
  "cells": [
    {
      "cell_type": "markdown",
      "source": "Welcome to my Data Science Notebook! In this notebook, I will be exploring various data analysis techniques and demonstrating the use of different data science libraries. We will dive into data cleaning, visualization, and modeling to gain insights from our datasets. Let's get started!\n",
      "metadata": {},
      "id": "ad0103fd-be94-4320-a5ba-cbfa273704e6"
    },
    {
      "cell_type": "markdown",
      "source": "Data Science Languages:\n- Python\n- R\n- Julia\n- SQL\n",
      "metadata": {},
      "id": "7d757966-697d-4165-9a4e-ce29d403a778"
    },
    {
      "cell_type": "markdown",
      "source": "Data Science Libraries:\n- Pandas\n- NumPy\n- Matplotlib\n- Seaborn\n- Scikit-learn\n",
      "metadata": {},
      "id": "1bf9ee8f-1d8c-47e8-8c14-053ab856492b"
    },
    {
      "cell_type": "markdown",
      "source": "| Tool Name    | Description                     | Website                           |\n|--------------|---------------------------------|-----------------------------------|\n| Pandas       | Data manipulation library        | [pandas.pydata.org](https://pandas.pydata.org) |\n| NumPy        | Numerical computing library      | [numpy.org](https://numpy.org)    |\n| Matplotlib   | Data visualization library       | [matplotlib.org](https://matplotlib.org) |\n| Scikit-learn | Machine learning library         | [scikit-learn.org](https://scikit-learn.org) |\n",
      "metadata": {},
      "id": "579e4890-dab9-48d4-8c8e-df76c959e6fa"
    },
    {
      "cell_type": "markdown",
      "source": "## Arithmetic Expression Examples\n\nIn this section, we will explore some examples of arithmetic expressions in Python. Arithmetic expressions involve mathematical operations such as addition, subtraction, multiplication, and division. These expressions can be evaluated to obtain numerical results.\n\nHere are some examples:\n\n1. Addition: `2 + 3 = 5`\n2. Subtraction: `7 - 4 = 3`\n3. Multiplication: `5 * 6 = 30`\n4. Division: `10 / 2 = 5`\n\nThese are just basic examples to demonstrate the use of arithmetic expressions in Python. You can perform more complex calculations using variables, functions, and parentheses to control the order of operations.\n\nLet's try out some arithmetic expressions in the code cells below!\n",
      "metadata": {},
      "id": "fea56926-7906-42be-88be-509ecebc2808"
    },
    {
      "cell_type": "code",
      "source": "# Multiply and Add Numbers\n\n# Multiply two numbers\nnum1 = 5\nnum2 = 3\nproduct = num1 * num2\n\n# Add two numbers\nnum3 = 7\nnum4 = 2\nsum = num3 + num4\n\n# Print the results\nprint(\"Product:\", product)\nprint(\"Sum:\", sum)\n",
      "metadata": {
        "trusted": true
      },
      "execution_count": 1,
      "outputs": [
        {
          "name": "stdout",
          "text": "Product: 15\nSum: 9\n",
          "output_type": "stream"
        }
      ],
      "id": "d0592945-d021-4cfc-8f61-11f38b085dd6"
    },
    {
      "cell_type": "code",
      "source": "# Convert Minutes to Hours\n\n# Input minutes\nminutes = 150\n\n# Convert minutes to hours\nhours = minutes / 60\n\n# Print the result\nprint(\"Minutes:\", minutes)\nprint(\"Hours:\", hours)\n",
      "metadata": {
        "trusted": true
      },
      "execution_count": 2,
      "outputs": [
        {
          "name": "stdout",
          "text": "Minutes: 150\nHours: 2.5\n",
          "output_type": "stream"
        }
      ],
      "id": "5b9e5a0a-0a96-42e4-a075-717211572d85"
    },
    {
      "cell_type": "markdown",
      "source": "## Objectives\n\n- Familiarize with Jupyter Notebook\n- Practice creating markdown cells\n- Learn basic arithmetic operations in Python\n- Understand the concept of data science languages and libraries\n- Explore data science tools and their applications\n- Apply mathematical operations in coding\n- Share and collaborate on GitHub\n- Gain experience in documenting and presenting code\n",
      "metadata": {},
      "id": "894c826a-70ed-42fb-aa45-dd091927c16a"
    },
    {
      "cell_type": "markdown",
      "source": "## Author\nTlotlo makinita\n",
      "metadata": {},
      "id": "a3912924-f7d8-42eb-99c0-2ee8db60393b"
    },
    {
      "cell_type": "code",
      "source": "",
      "metadata": {},
      "execution_count": null,
      "outputs": [],
      "id": "8b169c60-e6fa-4200-bdae-6e74c95c6044"
    }
  ]
}